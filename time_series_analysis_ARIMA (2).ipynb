{
 "cells": [
  {
   "cell_type": "code",
   "execution_count": null,
   "id": "8186d214-e26a-4283-b818-d6e04ed6202e",
   "metadata": {},
   "outputs": [],
   "source": [
    "pip install geemap"
   ]
  },
  {
   "cell_type": "code",
   "execution_count": null,
   "id": "0f140d6f-3693-4c19-aff3-43daec55e2e8",
   "metadata": {},
   "outputs": [],
   "source": [
    "import ee\n",
    "ee.Authenticate()\n",
    "ee.Initialize()\n",
    "\n"
   ]
  },
  {
   "cell_type": "code",
   "execution_count": 61,
   "id": "d3ca3f6a-9259-49d6-a83f-6b85b4ee0a0b",
   "metadata": {},
   "outputs": [
    {
     "data": {
      "text/html": [
       "\n",
       "            <style>\n",
       "                .geemap-dark {\n",
       "                    --jp-widgets-color: white;\n",
       "                    --jp-widgets-label-color: white;\n",
       "                    --jp-ui-font-color1: white;\n",
       "                    --jp-layout-color2: #454545;\n",
       "                    background-color: #383838;\n",
       "                }\n",
       "\n",
       "                .geemap-dark .jupyter-button {\n",
       "                    --jp-layout-color3: #383838;\n",
       "                }\n",
       "\n",
       "                .geemap-colab {\n",
       "                    background-color: var(--colab-primary-surface-color, white);\n",
       "                }\n",
       "\n",
       "                .geemap-colab .jupyter-button {\n",
       "                    --jp-layout-color3: var(--colab-primary-surface-color, white);\n",
       "                }\n",
       "            </style>\n",
       "            "
      ],
      "text/plain": [
       "<IPython.core.display.HTML object>"
      ]
     },
     "metadata": {},
     "output_type": "display_data"
    }
   ],
   "source": [
    "import ee\n",
    "import geemap\n",
    "import pandas as pd\n",
    "import matplotlib.pyplot as plt        \n",
    "# Initialize the Earth Engine\n",
    "# ee.Authenticate() # Uncomment if you need to authenticate\n",
    "ee.Initialize()        "
   ]
  },
  {
   "cell_type": "code",
   "execution_count": 63,
   "id": "55a50830-a27a-496e-b822-d71febbeedce",
   "metadata": {},
   "outputs": [
    {
     "data": {
      "text/html": [
       "\n",
       "            <style>\n",
       "                .geemap-dark {\n",
       "                    --jp-widgets-color: white;\n",
       "                    --jp-widgets-label-color: white;\n",
       "                    --jp-ui-font-color1: white;\n",
       "                    --jp-layout-color2: #454545;\n",
       "                    background-color: #383838;\n",
       "                }\n",
       "\n",
       "                .geemap-dark .jupyter-button {\n",
       "                    --jp-layout-color3: #383838;\n",
       "                }\n",
       "\n",
       "                .geemap-colab {\n",
       "                    background-color: var(--colab-primary-surface-color, white);\n",
       "                }\n",
       "\n",
       "                .geemap-colab .jupyter-button {\n",
       "                    --jp-layout-color3: var(--colab-primary-surface-color, white);\n",
       "                }\n",
       "            </style>\n",
       "            "
      ],
      "text/plain": [
       "<IPython.core.display.HTML object>"
      ]
     },
     "metadata": {},
     "output_type": "display_data"
    }
   ],
   "source": [
    "location = ee.FeatureCollection(\"projects/ee-mithileshpadhan/assets/debrigarh\")\n"
   ]
  },
  {
   "cell_type": "code",
   "execution_count": 65,
   "id": "0f717796-7877-42e3-a24c-7524d2653166",
   "metadata": {},
   "outputs": [
    {
     "data": {
      "text/html": [
       "\n",
       "            <style>\n",
       "                .geemap-dark {\n",
       "                    --jp-widgets-color: white;\n",
       "                    --jp-widgets-label-color: white;\n",
       "                    --jp-ui-font-color1: white;\n",
       "                    --jp-layout-color2: #454545;\n",
       "                    background-color: #383838;\n",
       "                }\n",
       "\n",
       "                .geemap-dark .jupyter-button {\n",
       "                    --jp-layout-color3: #383838;\n",
       "                }\n",
       "\n",
       "                .geemap-colab {\n",
       "                    background-color: var(--colab-primary-surface-color, white);\n",
       "                }\n",
       "\n",
       "                .geemap-colab .jupyter-button {\n",
       "                    --jp-layout-color3: var(--colab-primary-surface-color, white);\n",
       "                }\n",
       "            </style>\n",
       "            "
      ],
      "text/plain": [
       "<IPython.core.display.HTML object>"
      ]
     },
     "metadata": {},
     "output_type": "display_data"
    }
   ],
   "source": [
    "# Define the satellite imagery dataset (e.g., Landsat 8)\n",
    "dataset = ee.ImageCollection('LANDSAT/LC08/C02/T1_L2')\n",
    "\n",
    "# Filter the dataset by location and date range\n",
    "filtered_dataset = dataset.filterBounds(location).filterDate('2013-01-01', '2024-12-31') "
   ]
  },
  {
   "cell_type": "code",
   "execution_count": 67,
   "id": "02abf91b-f795-40af-8e6f-e0a4d2c7a2f4",
   "metadata": {},
   "outputs": [
    {
     "data": {
      "text/html": [
       "\n",
       "            <style>\n",
       "                .geemap-dark {\n",
       "                    --jp-widgets-color: white;\n",
       "                    --jp-widgets-label-color: white;\n",
       "                    --jp-ui-font-color1: white;\n",
       "                    --jp-layout-color2: #454545;\n",
       "                    background-color: #383838;\n",
       "                }\n",
       "\n",
       "                .geemap-dark .jupyter-button {\n",
       "                    --jp-layout-color3: #383838;\n",
       "                }\n",
       "\n",
       "                .geemap-colab {\n",
       "                    background-color: var(--colab-primary-surface-color, white);\n",
       "                }\n",
       "\n",
       "                .geemap-colab .jupyter-button {\n",
       "                    --jp-layout-color3: var(--colab-primary-surface-color, white);\n",
       "                }\n",
       "            </style>\n",
       "            "
      ],
      "text/plain": [
       "<IPython.core.display.HTML object>"
      ]
     },
     "metadata": {},
     "output_type": "display_data"
    }
   ],
   "source": [
    "# Define a function to calculate NDVI\n",
    "def calculate_ndvi(image):\n",
    "    ndvi = image.normalizedDifference(['SR_B5', 'SR_B4']).rename('NDVI')\n",
    "    return image.addBands(ndvi)\n",
    "\n",
    "# Map the NDVI calculation function over the filtered dataset\n",
    "ndvi_dataset = filtered_dataset.map(calculate_ndvi) "
   ]
  },
  {
   "cell_type": "code",
   "execution_count": null,
   "id": "c9558944-43bf-4b80-88ce-81cecce232b3",
   "metadata": {},
   "outputs": [],
   "source": [
    "# Get time series data using reduceRegion\n",
    "def extract_ndvi(image):\n",
    "    date = image.date().format(\"YYYY-MM-dd\")\n",
    "    ndvi_value = image.reduceRegion(\n",
    "        reducer=ee.Reducer.mean(),\n",
    "        geometry=location,\n",
    "        scale=250  # MODIS resolution\n",
    "    ).get(\"NDVI\")\n",
    "    return ee.Feature(None, {\"date\": date, \"NDVI\": ndvi_value})\n",
    "\n",
    "# Convert to FeatureCollection\n",
    "ndvi_time_series = ndvi_dataset.map(extract_ndvi)\n",
    "\n",
    "# Convert to pandas DataFrame\n",
    "ndvi_list = ndvi_time_series.aggregate_array(\"date\").getInfo()\n",
    "ndvi_values = ndvi_time_series.aggregate_array(\"NDVI\").getInfo()\n",
    "\n",
    "df = pd.DataFrame({\"time\": pd.to_datetime(ndvi_list), \"NDVI\": ndvi_values})\n",
    "\n",
    "# Print first few rows\n",
    "print(df.head())\n"
   ]
  },
  {
   "cell_type": "code",
   "execution_count": null,
   "id": "9e11a067-9a66-4e0f-913f-62b8b96b02e0",
   "metadata": {},
   "outputs": [],
   "source": [
    "\n",
    "import matplotlib.pyplot as plt\n",
    "import statsmodels.api as sm\n",
    "\n",
    "# Convert time column to index\n",
    "ndvi_series = df[['time', 'NDVI']].rename(columns={'time': 'Date'}).set_index('Date')\n",
    "\n",
    "# Handle missing values: Fill NaN using interpolation\n",
    "ndvi_series = ndvi_series.interpolate(method='linear')\n",
    "\n",
    "# Resample data to monthly frequency using 'ME' instead of 'M'\n",
    "ndvi_series = ndvi_series.resample('ME').mean()\n",
    "\n",
    "# Drop any remaining NaN values\n",
    "ndvi_series = ndvi_series.dropna()\n",
    "\n",
    "# Plot NDVI over time\n",
    "plt.figure(figsize=(12, 6))\n",
    "plt.plot(ndvi_series.index, ndvi_series['NDVI'], marker='o', linestyle='-')\n",
    "plt.xlabel('Time')\n",
    "plt.ylabel('NDVI')\n",
    "plt.title('NDVI Time Series')\n",
    "plt.grid(True)\n",
    "plt.show()\n",
    "\n",
    "# Ensure at least 2 years of data for seasonal decomposition\n",
    "if len(ndvi_series) >= 24:\n",
    "    decomposition = sm.tsa.seasonal_decompose(ndvi_series['NDVI'], model='multiplicative', period=12)  # Set period=12 for monthly data\n",
    "    fig = decomposition.plot()\n",
    "    fig.set_size_inches(12, 8)\n",
    "    plt.show()\n",
    "else:\n",
    "    print(\"Not enough data points for seasonal decomposition (need at least 2 years).\")\n",
    "\n",
    "\n"
   ]
  },
  {
   "cell_type": "code",
   "execution_count": null,
   "id": "f3e355c4-1329-4ef0-b96b-5d792234414b",
   "metadata": {},
   "outputs": [],
   "source": [
    "pip install pmdarima\n"
   ]
  },
  {
   "cell_type": "code",
   "execution_count": null,
   "id": "ee80af1e-0689-46d9-9093-4e4e656aab48",
   "metadata": {},
   "outputs": [],
   "source": [
    "import numpy as np\n",
    "import pandas as pd\n",
    "import matplotlib.pyplot as plt\n",
    "import statsmodels.api as sm\n",
    "from sklearn.ensemble import IsolationForest\n",
    "import pmdarima as pm\n",
    "\n",
    "# Ensure the time column is indexed\n",
    "ndvi_series = df[['time', 'NDVI']].rename(columns={'time': 'Date'}).set_index('Date')\n",
    "\n",
    "# Handle missing values\n",
    "ndvi_series = ndvi_series.interpolate(method='linear').resample('ME').mean().dropna()\n",
    "\n",
    "### 🔹 Auto ARIMA for Forecasting\n",
    "auto_arima_model = pm.auto_arima(ndvi_series['NDVI'], seasonal=True, m=12, stepwise=True, trace=True)\n",
    "print(auto_arima_model.summary())\n",
    "\n",
    "# Forecast the next 12 months\n",
    "forecast = auto_arima_model.predict(n_periods=12)\n",
    "forecast_dates = [ndvi_series.index[-1] + pd.DateOffset(months=i) for i in range(1, 13)]\n",
    "\n",
    "# Plot forecasted values\n",
    "plt.figure(figsize=(10, 6))\n",
    "plt.plot(ndvi_series.index, ndvi_series['NDVI'], label='Actual', marker='o')\n",
    "plt.plot(forecast_dates, forecast, label='Forecast', linestyle='--', marker='o', color='red')\n",
    "plt.legend()\n",
    "plt.title('Vegetation Health Forecast of DEBRIGARH WLS, ODISHA(Auto ARIMA)')\n",
    "plt.xlabel('Date')\n",
    "plt.ylabel('NDVI')\n",
    "plt.grid()\n",
    "plt.show()\n",
    "\n",
    "### 🔹 Anomaly Detection using Isolation Forest\n",
    "X = ndvi_series['NDVI'].values.reshape(-1, 1)\n",
    "\n",
    "# Train Isolation Forest\n",
    "model = IsolationForest(contamination=0.1, random_state=42)\n",
    "model.fit(X)\n",
    "\n",
    "# Predict anomalies (-1 = outliers, 1 = normal)\n",
    "anomalies = model.predict(X)\n",
    "\n",
    "# Identify outlier indices\n",
    "outlier_indices = np.where(anomalies == -1)[0]\n",
    "outliers = ndvi_series.iloc[outlier_indices]\n",
    "\n",
    "# Plot NDVI with anomalies highlighted\n",
    "plt.figure(figsize=(10, 6))\n",
    "plt.plot(ndvi_series.index, ndvi_series['NDVI'], label='NDVI')\n",
    "plt.scatter(outliers.index, outliers['NDVI'], color='red', label='Anomalies', marker='x', s=100)\n",
    "plt.title('Anomaly Detection using Isolation Forest')\n",
    "plt.xlabel('Time')\n",
    "plt.ylabel('NDVI')\n",
    "plt.legend()\n",
    "plt.grid()\n",
    "plt.show()\n"
   ]
  },
  {
   "cell_type": "code",
   "execution_count": null,
   "id": "021075f2-faa2-4a62-a41b-05b21f1ace81",
   "metadata": {},
   "outputs": [],
   "source": []
  },
  {
   "cell_type": "code",
   "execution_count": 79,
   "id": "b0a3461d-886f-49c9-8493-eb5938de71f5",
   "metadata": {},
   "outputs": [
    {
     "data": {
      "text/html": [
       "\n",
       "            <style>\n",
       "                .geemap-dark {\n",
       "                    --jp-widgets-color: white;\n",
       "                    --jp-widgets-label-color: white;\n",
       "                    --jp-ui-font-color1: white;\n",
       "                    --jp-layout-color2: #454545;\n",
       "                    background-color: #383838;\n",
       "                }\n",
       "\n",
       "                .geemap-dark .jupyter-button {\n",
       "                    --jp-layout-color3: #383838;\n",
       "                }\n",
       "\n",
       "                .geemap-colab {\n",
       "                    background-color: var(--colab-primary-surface-color, white);\n",
       "                }\n",
       "\n",
       "                .geemap-colab .jupyter-button {\n",
       "                    --jp-layout-color3: var(--colab-primary-surface-color, white);\n",
       "                }\n",
       "            </style>\n",
       "            "
      ],
      "text/plain": [
       "<IPython.core.display.HTML object>"
      ]
     },
     "metadata": {},
     "output_type": "display_data"
    },
    {
     "data": {
      "image/png": "[encoded data removed]",
      "text/plain": [
       "<Figure size 1000x500 with 1 Axes>"
      ]
     },
     "metadata": {},
     "output_type": "display_data"
    },
    {
     "name": "stdout",
     "output_type": "stream",
     "text": [
      "✅ NDVI time series saved as 'NDVI_Debrigarh_2024.csv'\n"
     ]
    }
   ],
   "source": [
    "import ee\n",
    "import pandas as pd\n",
    "import matplotlib.pyplot as plt\n",
    "\n",
    "# Authenticate and initialize Earth Engine\n",
    "ee.Authenticate()\n",
    "ee.Initialize()\n",
    "\n",
    "# Define your study area\n",
    "location = ee.FeatureCollection(\"projects/ee-mithileshpadhan/assets/debrigarh\")\n",
    "\n",
    "# Load Landsat 8 collection for 2024\n",
    "dataset = ee.ImageCollection('LANDSAT/LC08/C02/T1_L2') \\\n",
    "    .filterBounds(location) \\\n",
    "    .filterDate('2022-01-01', '2024-12-31') \\\n",
    "    .filter(ee.Filter.lt('CLOUD_COVER', 20))\n",
    "\n",
    "# Calculate NDVI and add date\n",
    "def calculate_ndvi(image):\n",
    "    ndvi = image.normalizedDifference(['SR_B5', 'SR_B4']).rename('NDVI')\n",
    "    return image.addBands(ndvi).set('date', image.date().format('YYYY-MM-dd'))\n",
    "\n",
    "ndvi_dataset = dataset.map(calculate_ndvi)\n",
    "\n",
    "# Reduce to mean NDVI per image\n",
    "def reduce_mean_ndvi(image):\n",
    "    mean = image.reduceRegion(\n",
    "        reducer=ee.Reducer.mean(),\n",
    "        geometry=location.geometry(),\n",
    "        scale=30,\n",
    "        maxPixels=1e9\n",
    "    )\n",
    "    return ee.Feature(None, {\n",
    "        'date': image.get('date'),\n",
    "        'NDVI': mean.get('NDVI')\n",
    "    })\n",
    "\n",
    "ndvi_fc = ndvi_dataset.map(reduce_mean_ndvi)\n",
    "\n",
    "# Convert to list of features\n",
    "features = ndvi_fc.getInfo()['features']\n",
    "\n",
    "# Extract to lists\n",
    "dates = [f['properties']['date'] for f in features]\n",
    "ndvi_values = [f['properties']['NDVI'] for f in features]\n",
    "\n",
    "# Create pandas DataFrame\n",
    "df = pd.DataFrame({'date': dates, 'NDVI': ndvi_values})\n",
    "df['date'] = pd.to_datetime(df['date'])\n",
    "df = df.dropna().sort_values('date')\n",
    "\n",
    "# Plot the NDVI time series\n",
    "plt.figure(figsize=(10, 5))\n",
    "plt.plot(df['date'], df['NDVI'], marker='o', linestyle='-')\n",
    "plt.title('Vegetation Health of Debrigarh WLS (2022-2024)')\n",
    "plt.xlabel('Date')\n",
    "plt.ylabel('Mean NDVI')\n",
    "plt.grid(True)\n",
    "plt.xticks(rotation=45)\n",
    "plt.tight_layout()\n",
    "plt.show()\n",
    "\n",
    "# Export to CSV\n",
    "df.to_csv('NDVI_Debrigarh_2024.csv', index=False)\n",
    "print(\"✅ NDVI time series saved as 'NDVI_Debrigarh_2024.csv'\")\n"
   ]
  },
  {
   "cell_type": "code",
   "execution_count": null,
   "id": "2874cb92-ec5b-4a06-bf4d-d8fa42691ea4",
   "metadata": {},
   "outputs": [],
   "source": []
  }
 ],
 "metadata": {
  "kernelspec": {
   "display_name": "Python [conda env:base] *",
   "language": "python",
   "name": "conda-base-py"
  },
  "language_info": {
   "codemirror_mode": {
    "name": "ipython",
    "version": 3
   },
   "file_extension": ".py",
   "mimetype": "text/x-python",
   "name": "python",
   "nbconvert_exporter": "python",
   "pygments_lexer": "ipython3",
   "version": "3.12.7"
  }
 },
 "nbformat": 4,
 "nbformat_minor": 5
}
